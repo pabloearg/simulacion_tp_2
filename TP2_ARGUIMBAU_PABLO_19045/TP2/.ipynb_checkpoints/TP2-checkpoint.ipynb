{
 "cells": [
  {
   "cell_type": "markdown",
   "metadata": {},
   "source": [
    "<img src=\"./figuras/Udemm.png\" width=\"500\" align=\"center\">\n",
    "\n",
    "#    UdeMM - Ingeniería de Sistemas 2020\n",
    "##  `Simulación de modelos en derivadas parciales`\n",
    "\n",
    "###   Trabajo Práctico 2\n",
    "\n",
    "#### Alumno: *Pylypenko Artem*\n",
    "#### Legajo: *8786*\n"
   ]
  },
  {
   "cell_type": "markdown",
   "metadata": {},
   "source": [
    "## 1. Grilla de cálculo (stencil)\n",
    "Asocie cada uno de los siguientes stencils a su correspondiente esquema de cálculo:\n",
    "<img src=\"./figuras/1.png\" width=\"800\" align=\"center\">\n",
    "<img src=\"./figuras/2.png\" width=\"500\" align=\"center\">"
   ]
  },
  {
   "cell_type": "markdown",
   "metadata": {},
   "source": [
    "# 2. Solución numérica\n",
    "### 2.1. Estabilidad\n",
    "Se considera un esquema de adelanto en tiempo y atraso en espacio para discretizar\n",
    "un problema de advección lineal con un coeficiente convectivo $c$=4 y un tamaño de\n",
    "paso espacial $\\Delta x$=2. Determine el valor máximo del paso de tiempo $\\Delta t$ que permita\n",
    "asegurar la estabilidad de la solución. <br>\n"
   ]
  },
  {
   "cell_type": "markdown",
   "metadata": {},
   "source": [
    "### 2.2. SymPy\n",
    "Empleando **SymPy** evalúe la derivada parcial con respecto a x de la expresión siguiente\n",
    "en x=2.2,\n",
    "<img src=\"./figuras/3.png\" width=\"400\" align=\"center\">"
   ]
  },
  {
   "cell_type": "markdown",
   "metadata": {},
   "source": [
    "# 3. Trabajo de código: Flujo de tráfico\n",
    "Considere el flujo de tráfico en una autopista. Procuremos describir el comportamiento general de este sistema. Para ello, definamos la velocidad de tráfico, $V$ , en kilómetros por hora. La densidad de tráfico, esto es el número de autos por unidad de longitud de autopista, $\\rho$, en autos por kilómetro. \n",
    "Finalmente, podemos definir el flujo de tráfico, esto es el $caudal$ de autos, $F$, en autos por hora. <br>\n",
    "Supongamos ahora que si $\\rho$ se aproxima a 0, es decir hay muy pocos autos en la autopista,\n",
    "estos circularán tan velozmente como puedan a una velocidad $V_{max}$. Asimismo,\n",
    "si la abundancia de autos es muy alta, entonces $\\rho$ se aproxima a $\\rho _{max}$ y por consiguiente\n",
    "$V$ se aproxima a 0. Una ecuación posible que describa este comportamiento\n",
    "se escribe:<br>\n",
    "<img src=\"./figuras/4.png\" width=\"400\" align=\"center\">\n",
    "siendo\n",
    "<img src=\"./figuras/5.png\" width=\"400\" align=\"center\">\n",
    "El flujo de tráfico en estado no estacionario puede modelarse como un problema de\n",
    "advección no lineal de la densidad de autos, siendo el coeficiente convectivo $V$ igual\n",
    "a $\\partial F/\\partial \\rho$:\n",
    "<img src=\"./figuras/6.png\" width=\"400\"  align=\"center\">\n",
    "Aplicando la regla de la cadena, resulta\n",
    "<img src=\"./figuras/7.png\" width=\"400\"  align=\"center\">\n",
    "Discretize la ecuación de flujo de tráfico empleando un esquema en diferencias de\n",
    "adelanto en tiempo y atraso en espacio. Considere un trayecto de autopista de 11km de longitud sujeto a las siguientes condiciones:\n",
    "<img src=\"./figuras/8.png\" width=\"200\" align=\"center\">\n"
   ]
  },
  {
   "cell_type": "markdown",
   "metadata": {},
   "source": [
    "### 3.1. Resultados de Simulación: Parte A\n",
    "Empleando la siguiente condición inicial para la densidad de tráfico:\n",
    "<img src=\"./figuras/9.png\" width=\"600\"  align=\"center\">\n",
    "y la siguiente condición de borde:\n",
    "$$\n",
    "\\begin{equation}\n",
    "\\rho(0,t)=10\n",
    "\\end{equation}\n",
    "$$\n",
    "Determine:\n",
    "1. Velocidad mínima en el instante $t$ = 0;\n",
    "2. Velocidad media en el instante $t$ = 3 minutos;\n",
    "3. Velocidad mínima en el instante $t$ = 6 minutos."
   ]
  },
  {
   "cell_type": "markdown",
   "metadata": {},
   "source": [
    "### 3.2. Resultados de Simulación: Parte B\n",
    "Considere ahora $V_{max} = 136 km/h$ y repita la simulación empleando la siguiente\n",
    "condición inicial para la densidad de tráfico:\n",
    "<img src=\"./figuras/10.png\" width=\"600\"  align=\"center\">\n",
    "y la siguiente condición de borde:\n",
    "$$\n",
    "\\begin{equation}\n",
    "\\rho(0,t)=20\n",
    "\\end{equation}\n",
    "$$\n",
    "Determine:\n",
    "1. Velocidad mínima en el instante $t$ = 0;\n",
    "2. Velocidad media en el instante $t$ = 3 minutos;\n",
    "3. Velocidad mínima en el instante $t$ = 6 minutos."
   ]
  }
 ],
 "metadata": {
  "kernelspec": {
   "display_name": "Python 3",
   "language": "python",
   "name": "python3"
  },
  "language_info": {
   "codemirror_mode": {
    "name": "ipython",
    "version": 3
   },
   "file_extension": ".py",
   "mimetype": "text/x-python",
   "name": "python",
   "nbconvert_exporter": "python",
   "pygments_lexer": "ipython3",
   "version": "3.8.3"
  }
 },
 "nbformat": 4,
 "nbformat_minor": 4
}
